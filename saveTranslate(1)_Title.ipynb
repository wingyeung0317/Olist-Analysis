{
 "cells": [
  {
   "cell_type": "code",
   "execution_count": 2,
   "metadata": {},
   "outputs": [],
   "source": [
    "import pandas as pd\n",
    "import numpy as np\n",
    "from tqdm import tqdm\n",
    "dataset = pd.read_csv(\"E:/JDE/olist/olist_order_reviews_dataset.csv\")\n"
   ]
  },
  {
   "cell_type": "code",
   "execution_count": 10,
   "metadata": {},
   "outputs": [],
   "source": [
    "from textblob import TextBlob"
   ]
  },
  {
   "cell_type": "code",
   "execution_count": 11,
   "metadata": {},
   "outputs": [
    {
     "name": "stderr",
     "output_type": "stream",
     "text": [
      "100%|██████████| 100000/100000 [49:13<00:00, 33.86it/s] \n"
     ]
    }
   ],
   "source": [
    "for i, comment in enumerate(tqdm(dataset['review_comment_title'])):\n",
    "    try:\n",
    "        translated_comment = TextBlob(comment).translate(from_lang='pt-BR', to='en')\n",
    "    except:\n",
    "        translated_comment = comment\n",
    "    dataset.loc[i, 'translate_comment_title'] = str(translated_comment)"
   ]
  },
  {
   "cell_type": "code",
   "execution_count": 12,
   "metadata": {},
   "outputs": [
    {
     "data": {
      "text/plain": [
       "nan                      88285\n",
       "I recommend                864\n",
       "Excellent                  772\n",
       "Good                       452\n",
       "Very good                  400\n",
       "                         ...  \n",
       "I didn't get it right        1\n",
       "LM 327                       1\n",
       "Irritating                   1\n",
       "generated doubt              1\n",
       "Misleading photo             1\n",
       "Name: translate_comment_title, Length: 3655, dtype: int64"
      ]
     },
     "execution_count": 12,
     "metadata": {},
     "output_type": "execute_result"
    }
   ],
   "source": [
    "dataset['translate_comment_title'].value_counts()"
   ]
  },
  {
   "cell_type": "code",
   "execution_count": null,
   "metadata": {},
   "outputs": [
    {
     "data": {
      "text/plain": [
       "I recommend                      671\n",
       "Excellent                        555\n",
       "Good                             306\n",
       "Very good                        278\n",
       "Great                            271\n",
       "Super recommend                  252\n",
       "super recommend                  193\n",
       "excellent                        119\n",
       "I do not recommend               103\n",
       "10                                84\n",
       "good                              75\n",
       "Great product                     56\n",
       "Perfect                           42\n",
       "Fast delivery                     36\n",
       "Bad                               31\n",
       "OK                                28\n",
       "very good                         26\n",
       "Satisfied                         26\n",
       "super recommended                 24\n",
       "Good product                      24\n",
       "I RECOMMEND                       22\n",
       "I did not receive the product     21\n",
       "Wrong product                     16\n",
       "Product not delivered             13\n",
       "Very good!                        13\n",
       "Terrible                          12\n",
       "I loved                           11\n",
       "Defective product                  8\n",
       "great                              7\n",
       "Grade 10                           6\n",
       "I recommend.                       5\n",
       "Excellent product                  4\n",
       "I recommend!                       2\n",
       "Delivery                           2\n",
       "I liked                            1\n",
       "recommended                        1\n",
       "Name: translate_comment_title, dtype: int64"
      ]
     },
     "execution_count": 114,
     "metadata": {},
     "output_type": "execute_result"
    }
   ],
   "source": [
    "DF_temp = dataset[dataset['translate_comment_title'].duplicated()==True].dropna()\n",
    "for i in range(0,30):\n",
    "    DF_temp = DF_temp[DF_temp['translate_comment_title'].duplicated()==True].dropna()\n",
    "\n",
    "DF_temp['translate_comment_title'].value_counts()\n",
    "# dataset[dataset['translate_comment_title'].duplicated()==True].dropna()['translate_comment_title'].value_counts()"
   ]
  },
  {
   "cell_type": "code",
   "execution_count": 13,
   "metadata": {},
   "outputs": [
    {
     "data": {
      "text/plain": [
       "I recommend         701\n",
       "Excellent           585\n",
       "Good                336\n",
       "Very good           308\n",
       "Great               301\n",
       "                   ... \n",
       "Good company          1\n",
       "Product quality       1\n",
       "Terrible.             1\n",
       "perhaps               1\n",
       "Excellent store.      1\n",
       "Name: translate_comment_title, Length: 664, dtype: int64"
      ]
     },
     "execution_count": 13,
     "metadata": {},
     "output_type": "execute_result"
    }
   ],
   "source": [
    "dataset[dataset['translate_comment_title'].duplicated()==True].dropna()['translate_comment_title'].value_counts()"
   ]
  },
  {
   "cell_type": "code",
   "execution_count": 16,
   "metadata": {},
   "outputs": [],
   "source": [
    "DF_save = dataset[['review_id', 'translate_comment_title']]\n",
    "DF_save.to_csv('E:/JDE/olist/comment_translate.csv')"
   ]
  },
  {
   "cell_type": "code",
   "execution_count": 20,
   "metadata": {},
   "outputs": [],
   "source": [
    "for i, title in enumerate(dataset['translate_comment_title']):\n",
    "    try:\n",
    "        print(i)\n",
    "        print(title)\n",
    "        dataset.loc[i, 'title_sentiment'] = TextBlob(title).sentiment.polarity\n",
    "    except:\n",
    "        dataset.loc[i, 'title_sentiment'] = np.nan"
   ]
  },
  {
   "cell_type": "code",
   "execution_count": 54,
   "metadata": {},
   "outputs": [],
   "source": [
    "DF_save = dataset[['review_id', 'order_id', 'translate_comment_title', 'title_sentiment']]\n",
    "DF_save.to_csv('E:/JDE/olist/comment_title_translate.csv')"
   ]
  }
 ],
 "metadata": {
  "kernelspec": {
   "display_name": "base",
   "language": "python",
   "name": "python3"
  },
  "language_info": {
   "codemirror_mode": {
    "name": "ipython",
    "version": 3
   },
   "file_extension": ".py",
   "mimetype": "text/x-python",
   "name": "python",
   "nbconvert_exporter": "python",
   "pygments_lexer": "ipython3",
   "version": "3.9.13"
  },
  "orig_nbformat": 4,
  "vscode": {
   "interpreter": {
    "hash": "f802a672465f440741756180e7656f4f1597df10c9ec59b02141ef7d7770626c"
   }
  }
 },
 "nbformat": 4,
 "nbformat_minor": 2
}
